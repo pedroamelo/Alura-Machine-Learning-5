{
 "cells": [
  {
   "cell_type": "markdown",
   "id": "3a11ccb8",
   "metadata": {},
   "source": [
    "## Aula 2 - Obtendo os clusters"
   ]
  },
  {
   "cell_type": "code",
   "execution_count": 1,
   "id": "50e22d63",
   "metadata": {},
   "outputs": [],
   "source": [
    "import pandas as pd"
   ]
  },
  {
   "cell_type": "code",
   "execution_count": 2,
   "id": "2ee61b0f",
   "metadata": {},
   "outputs": [],
   "source": [
    "data = pd.read_csv('CC GENERAL.CSV')"
   ]
  },
  {
   "cell_type": "code",
   "execution_count": 3,
   "id": "6b584783",
   "metadata": {},
   "outputs": [],
   "source": [
    "data.drop(columns=['CUST_ID', 'TENURE'], inplace=True) "
   ]
  },
  {
   "cell_type": "code",
   "execution_count": 4,
   "id": "1bbdbd5c",
   "metadata": {},
   "outputs": [
    {
     "data": {
      "text/html": [
       "<div>\n",
       "<style scoped>\n",
       "    .dataframe tbody tr th:only-of-type {\n",
       "        vertical-align: middle;\n",
       "    }\n",
       "\n",
       "    .dataframe tbody tr th {\n",
       "        vertical-align: top;\n",
       "    }\n",
       "\n",
       "    .dataframe thead th {\n",
       "        text-align: right;\n",
       "    }\n",
       "</style>\n",
       "<table border=\"1\" class=\"dataframe\">\n",
       "  <thead>\n",
       "    <tr style=\"text-align: right;\">\n",
       "      <th></th>\n",
       "      <th>BALANCE</th>\n",
       "      <th>BALANCE_FREQUENCY</th>\n",
       "      <th>PURCHASES</th>\n",
       "      <th>ONEOFF_PURCHASES</th>\n",
       "      <th>INSTALLMENTS_PURCHASES</th>\n",
       "      <th>CASH_ADVANCE</th>\n",
       "      <th>PURCHASES_FREQUENCY</th>\n",
       "      <th>ONEOFF_PURCHASES_FREQUENCY</th>\n",
       "      <th>PURCHASES_INSTALLMENTS_FREQUENCY</th>\n",
       "      <th>CASH_ADVANCE_FREQUENCY</th>\n",
       "      <th>CASH_ADVANCE_TRX</th>\n",
       "      <th>PURCHASES_TRX</th>\n",
       "      <th>CREDIT_LIMIT</th>\n",
       "      <th>PAYMENTS</th>\n",
       "      <th>MINIMUM_PAYMENTS</th>\n",
       "      <th>PRC_FULL_PAYMENT</th>\n",
       "    </tr>\n",
       "  </thead>\n",
       "  <tbody>\n",
       "    <tr>\n",
       "      <th>0</th>\n",
       "      <td>40.900749</td>\n",
       "      <td>0.818182</td>\n",
       "      <td>95.40</td>\n",
       "      <td>0.00</td>\n",
       "      <td>95.4</td>\n",
       "      <td>0.000000</td>\n",
       "      <td>0.166667</td>\n",
       "      <td>0.000000</td>\n",
       "      <td>0.083333</td>\n",
       "      <td>0.000000</td>\n",
       "      <td>0</td>\n",
       "      <td>2</td>\n",
       "      <td>1000.0</td>\n",
       "      <td>201.802084</td>\n",
       "      <td>139.509787</td>\n",
       "      <td>0.000000</td>\n",
       "    </tr>\n",
       "    <tr>\n",
       "      <th>1</th>\n",
       "      <td>3202.467416</td>\n",
       "      <td>0.909091</td>\n",
       "      <td>0.00</td>\n",
       "      <td>0.00</td>\n",
       "      <td>0.0</td>\n",
       "      <td>6442.945483</td>\n",
       "      <td>0.000000</td>\n",
       "      <td>0.000000</td>\n",
       "      <td>0.000000</td>\n",
       "      <td>0.250000</td>\n",
       "      <td>4</td>\n",
       "      <td>0</td>\n",
       "      <td>7000.0</td>\n",
       "      <td>4103.032597</td>\n",
       "      <td>1072.340217</td>\n",
       "      <td>0.222222</td>\n",
       "    </tr>\n",
       "    <tr>\n",
       "      <th>2</th>\n",
       "      <td>2495.148862</td>\n",
       "      <td>1.000000</td>\n",
       "      <td>773.17</td>\n",
       "      <td>773.17</td>\n",
       "      <td>0.0</td>\n",
       "      <td>0.000000</td>\n",
       "      <td>1.000000</td>\n",
       "      <td>1.000000</td>\n",
       "      <td>0.000000</td>\n",
       "      <td>0.000000</td>\n",
       "      <td>0</td>\n",
       "      <td>12</td>\n",
       "      <td>7500.0</td>\n",
       "      <td>622.066742</td>\n",
       "      <td>627.284787</td>\n",
       "      <td>0.000000</td>\n",
       "    </tr>\n",
       "    <tr>\n",
       "      <th>3</th>\n",
       "      <td>1666.670542</td>\n",
       "      <td>0.636364</td>\n",
       "      <td>1499.00</td>\n",
       "      <td>1499.00</td>\n",
       "      <td>0.0</td>\n",
       "      <td>205.788017</td>\n",
       "      <td>0.083333</td>\n",
       "      <td>0.083333</td>\n",
       "      <td>0.000000</td>\n",
       "      <td>0.083333</td>\n",
       "      <td>1</td>\n",
       "      <td>1</td>\n",
       "      <td>7500.0</td>\n",
       "      <td>0.000000</td>\n",
       "      <td>NaN</td>\n",
       "      <td>0.000000</td>\n",
       "    </tr>\n",
       "    <tr>\n",
       "      <th>4</th>\n",
       "      <td>817.714335</td>\n",
       "      <td>1.000000</td>\n",
       "      <td>16.00</td>\n",
       "      <td>16.00</td>\n",
       "      <td>0.0</td>\n",
       "      <td>0.000000</td>\n",
       "      <td>0.083333</td>\n",
       "      <td>0.083333</td>\n",
       "      <td>0.000000</td>\n",
       "      <td>0.000000</td>\n",
       "      <td>0</td>\n",
       "      <td>1</td>\n",
       "      <td>1200.0</td>\n",
       "      <td>678.334763</td>\n",
       "      <td>244.791237</td>\n",
       "      <td>0.000000</td>\n",
       "    </tr>\n",
       "  </tbody>\n",
       "</table>\n",
       "</div>"
      ],
      "text/plain": [
       "       BALANCE  BALANCE_FREQUENCY  PURCHASES  ONEOFF_PURCHASES   \n",
       "0    40.900749           0.818182      95.40              0.00  \\\n",
       "1  3202.467416           0.909091       0.00              0.00   \n",
       "2  2495.148862           1.000000     773.17            773.17   \n",
       "3  1666.670542           0.636364    1499.00           1499.00   \n",
       "4   817.714335           1.000000      16.00             16.00   \n",
       "\n",
       "   INSTALLMENTS_PURCHASES  CASH_ADVANCE  PURCHASES_FREQUENCY   \n",
       "0                    95.4      0.000000             0.166667  \\\n",
       "1                     0.0   6442.945483             0.000000   \n",
       "2                     0.0      0.000000             1.000000   \n",
       "3                     0.0    205.788017             0.083333   \n",
       "4                     0.0      0.000000             0.083333   \n",
       "\n",
       "   ONEOFF_PURCHASES_FREQUENCY  PURCHASES_INSTALLMENTS_FREQUENCY   \n",
       "0                    0.000000                          0.083333  \\\n",
       "1                    0.000000                          0.000000   \n",
       "2                    1.000000                          0.000000   \n",
       "3                    0.083333                          0.000000   \n",
       "4                    0.083333                          0.000000   \n",
       "\n",
       "   CASH_ADVANCE_FREQUENCY  CASH_ADVANCE_TRX  PURCHASES_TRX  CREDIT_LIMIT   \n",
       "0                0.000000                 0              2        1000.0  \\\n",
       "1                0.250000                 4              0        7000.0   \n",
       "2                0.000000                 0             12        7500.0   \n",
       "3                0.083333                 1              1        7500.0   \n",
       "4                0.000000                 0              1        1200.0   \n",
       "\n",
       "      PAYMENTS  MINIMUM_PAYMENTS  PRC_FULL_PAYMENT  \n",
       "0   201.802084        139.509787          0.000000  \n",
       "1  4103.032597       1072.340217          0.222222  \n",
       "2   622.066742        627.284787          0.000000  \n",
       "3     0.000000               NaN          0.000000  \n",
       "4   678.334763        244.791237          0.000000  "
      ]
     },
     "execution_count": 4,
     "metadata": {},
     "output_type": "execute_result"
    }
   ],
   "source": [
    "data.head()"
   ]
  },
  {
   "cell_type": "code",
   "execution_count": 5,
   "id": "ffe9b4ed",
   "metadata": {},
   "outputs": [
    {
     "data": {
      "text/plain": [
       "BALANCE                               0\n",
       "BALANCE_FREQUENCY                     0\n",
       "PURCHASES                             0\n",
       "ONEOFF_PURCHASES                      0\n",
       "INSTALLMENTS_PURCHASES                0\n",
       "CASH_ADVANCE                          0\n",
       "PURCHASES_FREQUENCY                   0\n",
       "ONEOFF_PURCHASES_FREQUENCY            0\n",
       "PURCHASES_INSTALLMENTS_FREQUENCY      0\n",
       "CASH_ADVANCE_FREQUENCY                0\n",
       "CASH_ADVANCE_TRX                      0\n",
       "PURCHASES_TRX                         0\n",
       "CREDIT_LIMIT                          1\n",
       "PAYMENTS                              0\n",
       "MINIMUM_PAYMENTS                    313\n",
       "PRC_FULL_PAYMENT                      0\n",
       "dtype: int64"
      ]
     },
     "execution_count": 5,
     "metadata": {},
     "output_type": "execute_result"
    }
   ],
   "source": [
    "data.isna().sum()"
   ]
  },
  {
   "cell_type": "code",
   "execution_count": 6,
   "id": "e50a1de5",
   "metadata": {},
   "outputs": [],
   "source": [
    "data.fillna(data.median(), inplace=True)"
   ]
  },
  {
   "cell_type": "code",
   "execution_count": 7,
   "id": "7e6ff7cc",
   "metadata": {},
   "outputs": [],
   "source": [
    "from sklearn.preprocessing import Normalizer\n",
    "values = Normalizer().fit_transform(data.values)"
   ]
  },
  {
   "cell_type": "code",
   "execution_count": 8,
   "id": "7c0f040b",
   "metadata": {},
   "outputs": [],
   "source": [
    "from sklearn.cluster import KMeans\n",
    "kmeans = KMeans(n_clusters=5, n_init=10, max_iter=300)\n",
    "y_pred = kmeans.fit_predict(values)"
   ]
  },
  {
   "cell_type": "markdown",
   "id": "80051cde",
   "metadata": {},
   "source": [
    "## Aula 3 - Entendendo os critérios e métricas de validação"
   ]
  },
  {
   "cell_type": "code",
   "execution_count": 9,
   "id": "418f3663",
   "metadata": {},
   "outputs": [
    {
     "name": "stdout",
     "output_type": "stream",
     "text": [
      "0.3645268652444429\n"
     ]
    }
   ],
   "source": [
    "# Coeficiente de Silhouette\n",
    "from sklearn.metrics import silhouette_score\n",
    "labels = kmeans.labels_\n",
    "silhouette = silhouette_score(values, labels, metric='euclidean')\n",
    "print(silhouette)"
   ]
  },
  {
   "cell_type": "markdown",
   "id": "dc01ef78",
   "metadata": {},
   "source": [
    "## Aula 4 - Entendendo e calculando o índice Davies-Bouldin"
   ]
  },
  {
   "cell_type": "code",
   "execution_count": 10,
   "id": "7a9aec66",
   "metadata": {},
   "outputs": [
    {
     "name": "stdout",
     "output_type": "stream",
     "text": [
      "1.0758562764119166\n"
     ]
    }
   ],
   "source": [
    "from sklearn.metrics import davies_bouldin_score\n",
    "dbs = davies_bouldin_score(values, labels)\n",
    "print(dbs)"
   ]
  },
  {
   "cell_type": "markdown",
   "id": "2bdd876d",
   "metadata": {},
   "source": [
    "## Aula 5 - Entendendo e calculando o índice Calinski-Harabasz"
   ]
  },
  {
   "cell_type": "code",
   "execution_count": 11,
   "id": "02517bf1",
   "metadata": {},
   "outputs": [
    {
     "name": "stdout",
     "output_type": "stream",
     "text": [
      "3431.788779759367\n"
     ]
    }
   ],
   "source": [
    "from sklearn.metrics import calinski_harabasz_score\n",
    "chs = calinski_harabasz_score(values, labels)\n",
    "print(chs)"
   ]
  },
  {
   "cell_type": "markdown",
   "id": "4d34fadf",
   "metadata": {},
   "source": [
    "## Aula 6 - Validando os clusters"
   ]
  },
  {
   "cell_type": "code",
   "execution_count": 12,
   "id": "fc0a1b9c",
   "metadata": {},
   "outputs": [],
   "source": [
    "def clustering_algorithm(n_clusters, dataset):\n",
    "    kmeans = KMeans(n_clusters=n_clusters, n_init=10, max_iter=300)\n",
    "    labels = kmeans.fit_predict(dataset)\n",
    "    s = silhouette_score(dataset, labels, metric='euclidean')\n",
    "    dbs = davies_bouldin_score(dataset, labels)\n",
    "    chs = calinski_harabasz_score(dataset, labels)\n",
    "    \n",
    "    return s, dbs, chs"
   ]
  },
  {
   "cell_type": "code",
   "execution_count": 13,
   "id": "af2484fa",
   "metadata": {},
   "outputs": [
    {
     "data": {
      "text/plain": [
       "(0.3272203126696238, 1.3096073640088426, 3526.440519908274)"
      ]
     },
     "execution_count": 13,
     "metadata": {},
     "output_type": "execute_result"
    }
   ],
   "source": [
    "clustering_algorithm(3, values)"
   ]
  },
  {
   "cell_type": "code",
   "execution_count": 14,
   "id": "95f5c05f",
   "metadata": {},
   "outputs": [
    {
     "data": {
      "text/plain": [
       "(0.36459959298485145, 1.0753672296946832, 3431.7874878702146)"
      ]
     },
     "execution_count": 14,
     "metadata": {},
     "output_type": "execute_result"
    }
   ],
   "source": [
    "clustering_algorithm(5, values)"
   ]
  },
  {
   "cell_type": "code",
   "execution_count": 15,
   "id": "e70cc8de",
   "metadata": {},
   "outputs": [
    {
     "data": {
      "text/plain": [
       "(0.351657893327692, 1.1137701491081322, 3019.113960624219)"
      ]
     },
     "execution_count": 15,
     "metadata": {},
     "output_type": "execute_result"
    }
   ],
   "source": [
    "clustering_algorithm(10, values)"
   ]
  },
  {
   "cell_type": "code",
   "execution_count": 16,
   "id": "dd2b81e2",
   "metadata": {},
   "outputs": [
    {
     "data": {
      "text/plain": [
       "(0.2966382537908831, 1.212307158940593, 2404.8596872372177)"
      ]
     },
     "execution_count": 16,
     "metadata": {},
     "output_type": "execute_result"
    }
   ],
   "source": [
    "clustering_algorithm(20, values)"
   ]
  },
  {
   "cell_type": "code",
   "execution_count": 17,
   "id": "988b0a3c",
   "metadata": {},
   "outputs": [
    {
     "data": {
      "text/plain": [
       "(0.24078308215182606, 1.2373606182983259, 1606.8129664105106)"
      ]
     },
     "execution_count": 17,
     "metadata": {},
     "output_type": "execute_result"
    }
   ],
   "source": [
    "clustering_algorithm(50, values)"
   ]
  },
  {
   "cell_type": "code",
   "execution_count": 18,
   "id": "e2de126a",
   "metadata": {},
   "outputs": [
    {
     "data": {
      "text/plain": [
       "BALANCE                             8950\n",
       "BALANCE_FREQUENCY                   8950\n",
       "PURCHASES                           8950\n",
       "ONEOFF_PURCHASES                    8950\n",
       "INSTALLMENTS_PURCHASES              8950\n",
       "CASH_ADVANCE                        8950\n",
       "PURCHASES_FREQUENCY                 8950\n",
       "ONEOFF_PURCHASES_FREQUENCY          8950\n",
       "PURCHASES_INSTALLMENTS_FREQUENCY    8950\n",
       "CASH_ADVANCE_FREQUENCY              8950\n",
       "CASH_ADVANCE_TRX                    8950\n",
       "PURCHASES_TRX                       8950\n",
       "CREDIT_LIMIT                        8950\n",
       "PAYMENTS                            8950\n",
       "MINIMUM_PAYMENTS                    8950\n",
       "PRC_FULL_PAYMENT                    8950\n",
       "dtype: int64"
      ]
     },
     "execution_count": 18,
     "metadata": {},
     "output_type": "execute_result"
    }
   ],
   "source": [
    "data.count()"
   ]
  },
  {
   "cell_type": "code",
   "execution_count": 19,
   "id": "4cf6ca53",
   "metadata": {},
   "outputs": [
    {
     "name": "stdout",
     "output_type": "stream",
     "text": [
      "(0.36456911048578505, 1.0750368113721949, 3431.7904873084876)\n",
      "(0.039906010877248044, 3.485153324977243, 303.96599857716006)\n"
     ]
    }
   ],
   "source": [
    "import numpy as np\n",
    "random_data = np.random.rand(8950, 16)\n",
    "print(clustering_algorithm(5, values))\n",
    "print(clustering_algorithm(5, random_data))"
   ]
  },
  {
   "cell_type": "code",
   "execution_count": 20,
   "id": "59e87a1c",
   "metadata": {},
   "outputs": [
    {
     "name": "stdout",
     "output_type": "stream",
     "text": [
      "(0.36913858944625105, 1.0533246722185465, 1204.033970254312)\n",
      "(0.35406999696241026, 1.1389554530299943, 1194.945411949724)\n",
      "(0.3668564117315988, 1.0993525253456347, 1167.5313082261505)\n"
     ]
    }
   ],
   "source": [
    "set1, set2, set3 = np.array_split(values, 3)\n",
    "print(clustering_algorithm(5, set1))\n",
    "print(clustering_algorithm(5, set2))\n",
    "print(clustering_algorithm(5, set3))"
   ]
  },
  {
   "cell_type": "markdown",
   "id": "9d9a6596",
   "metadata": {},
   "source": [
    "## Aula7 - Visualizando Clusters"
   ]
  },
  {
   "cell_type": "code",
   "execution_count": 21,
   "id": "16b36c18",
   "metadata": {},
   "outputs": [
    {
     "data": {
      "image/png": "[encoded data removed]",
      "text/plain": [
       "<Figure size 640x480 with 1 Axes>"
      ]
     },
     "metadata": {},
     "output_type": "display_data"
    }
   ],
   "source": [
    "import matplotlib.pyplot as plt\n",
    "plt.scatter(data['PURCHASES'], data['PAYMENTS'], c=labels, s=5, cmap='rainbow')\n",
    "plt.xlabel('Valor total pago')\n",
    "plt.ylabel('Valor total gasto')\n",
    "plt.show()"
   ]
  },
  {
   "cell_type": "code",
   "execution_count": 22,
   "id": "08ba73bb",
   "metadata": {},
   "outputs": [],
   "source": [
    "# import seaborn as sns\n",
    "data['clusters'] = labels\n",
    "# sns.pairplot(data[0:], hue='clusters')"
   ]
  },
  {
   "cell_type": "markdown",
   "id": "20dc6829",
   "metadata": {},
   "source": [
    "## Aula 8 - Entendendo os valores dos atributos no cluster"
   ]
  },
  {
   "cell_type": "code",
   "execution_count": 23,
   "id": "19fe4f11",
   "metadata": {},
   "outputs": [
    {
     "data": {
      "text/html": [
       "<div>\n",
       "<style scoped>\n",
       "    .dataframe tbody tr th:only-of-type {\n",
       "        vertical-align: middle;\n",
       "    }\n",
       "\n",
       "    .dataframe tbody tr th {\n",
       "        vertical-align: top;\n",
       "    }\n",
       "\n",
       "    .dataframe thead tr th {\n",
       "        text-align: left;\n",
       "    }\n",
       "\n",
       "    .dataframe thead tr:last-of-type th {\n",
       "        text-align: right;\n",
       "    }\n",
       "</style>\n",
       "<table border=\"1\" class=\"dataframe\">\n",
       "  <thead>\n",
       "    <tr>\n",
       "      <th></th>\n",
       "      <th colspan=\"8\" halign=\"left\">BALANCE</th>\n",
       "      <th colspan=\"2\" halign=\"left\">BALANCE_FREQUENCY</th>\n",
       "      <th>...</th>\n",
       "      <th colspan=\"2\" halign=\"left\">MINIMUM_PAYMENTS</th>\n",
       "      <th colspan=\"8\" halign=\"left\">PRC_FULL_PAYMENT</th>\n",
       "    </tr>\n",
       "    <tr>\n",
       "      <th></th>\n",
       "      <th>count</th>\n",
       "      <th>mean</th>\n",
       "      <th>std</th>\n",
       "      <th>min</th>\n",
       "      <th>25%</th>\n",
       "      <th>50%</th>\n",
       "      <th>75%</th>\n",
       "      <th>max</th>\n",
       "      <th>count</th>\n",
       "      <th>mean</th>\n",
       "      <th>...</th>\n",
       "      <th>75%</th>\n",
       "      <th>max</th>\n",
       "      <th>count</th>\n",
       "      <th>mean</th>\n",
       "      <th>std</th>\n",
       "      <th>min</th>\n",
       "      <th>25%</th>\n",
       "      <th>50%</th>\n",
       "      <th>75%</th>\n",
       "      <th>max</th>\n",
       "    </tr>\n",
       "    <tr>\n",
       "      <th>clusters</th>\n",
       "      <th></th>\n",
       "      <th></th>\n",
       "      <th></th>\n",
       "      <th></th>\n",
       "      <th></th>\n",
       "      <th></th>\n",
       "      <th></th>\n",
       "      <th></th>\n",
       "      <th></th>\n",
       "      <th></th>\n",
       "      <th></th>\n",
       "      <th></th>\n",
       "      <th></th>\n",
       "      <th></th>\n",
       "      <th></th>\n",
       "      <th></th>\n",
       "      <th></th>\n",
       "      <th></th>\n",
       "      <th></th>\n",
       "      <th></th>\n",
       "      <th></th>\n",
       "    </tr>\n",
       "  </thead>\n",
       "  <tbody>\n",
       "    <tr>\n",
       "      <th>0</th>\n",
       "      <td>2650.0</td>\n",
       "      <td>3036.946177</td>\n",
       "      <td>2478.922442</td>\n",
       "      <td>6.824905</td>\n",
       "      <td>1255.154881</td>\n",
       "      <td>2173.994774</td>\n",
       "      <td>4223.858877</td>\n",
       "      <td>18495.558550</td>\n",
       "      <td>2650.0</td>\n",
       "      <td>0.963514</td>\n",
       "      <td>...</td>\n",
       "      <td>1330.541571</td>\n",
       "      <td>8345.641905</td>\n",
       "      <td>2650.0</td>\n",
       "      <td>0.001798</td>\n",
       "      <td>0.023256</td>\n",
       "      <td>0.0</td>\n",
       "      <td>0.0</td>\n",
       "      <td>0.000000</td>\n",
       "      <td>0.000000</td>\n",
       "      <td>0.6</td>\n",
       "    </tr>\n",
       "    <tr>\n",
       "      <th>1</th>\n",
       "      <td>3279.0</td>\n",
       "      <td>443.776995</td>\n",
       "      <td>846.525522</td>\n",
       "      <td>0.000000</td>\n",
       "      <td>23.340435</td>\n",
       "      <td>82.902896</td>\n",
       "      <td>410.659944</td>\n",
       "      <td>9630.367575</td>\n",
       "      <td>3279.0</td>\n",
       "      <td>0.774514</td>\n",
       "      <td>...</td>\n",
       "      <td>248.766884</td>\n",
       "      <td>4483.503862</td>\n",
       "      <td>3279.0</td>\n",
       "      <td>0.246881</td>\n",
       "      <td>0.346775</td>\n",
       "      <td>0.0</td>\n",
       "      <td>0.0</td>\n",
       "      <td>0.000000</td>\n",
       "      <td>0.444444</td>\n",
       "      <td>1.0</td>\n",
       "    </tr>\n",
       "    <tr>\n",
       "      <th>2</th>\n",
       "      <td>1072.0</td>\n",
       "      <td>1794.024195</td>\n",
       "      <td>1982.950586</td>\n",
       "      <td>0.000000</td>\n",
       "      <td>506.925348</td>\n",
       "      <td>1087.920500</td>\n",
       "      <td>2308.762488</td>\n",
       "      <td>14581.459140</td>\n",
       "      <td>1072.0</td>\n",
       "      <td>0.862131</td>\n",
       "      <td>...</td>\n",
       "      <td>884.718306</td>\n",
       "      <td>21235.065300</td>\n",
       "      <td>1072.0</td>\n",
       "      <td>0.117384</td>\n",
       "      <td>0.186853</td>\n",
       "      <td>0.0</td>\n",
       "      <td>0.0</td>\n",
       "      <td>0.083333</td>\n",
       "      <td>0.142857</td>\n",
       "      <td>1.0</td>\n",
       "    </tr>\n",
       "    <tr>\n",
       "      <th>3</th>\n",
       "      <td>412.0</td>\n",
       "      <td>1987.146873</td>\n",
       "      <td>1852.215743</td>\n",
       "      <td>70.794108</td>\n",
       "      <td>1020.146724</td>\n",
       "      <td>1338.918346</td>\n",
       "      <td>2133.415063</td>\n",
       "      <td>11670.179850</td>\n",
       "      <td>412.0</td>\n",
       "      <td>0.989512</td>\n",
       "      <td>...</td>\n",
       "      <td>7086.774783</td>\n",
       "      <td>76406.207520</td>\n",
       "      <td>412.0</td>\n",
       "      <td>0.019271</td>\n",
       "      <td>0.090795</td>\n",
       "      <td>0.0</td>\n",
       "      <td>0.0</td>\n",
       "      <td>0.000000</td>\n",
       "      <td>0.000000</td>\n",
       "      <td>1.0</td>\n",
       "    </tr>\n",
       "    <tr>\n",
       "      <th>4</th>\n",
       "      <td>1537.0</td>\n",
       "      <td>1143.200471</td>\n",
       "      <td>1665.090233</td>\n",
       "      <td>0.000000</td>\n",
       "      <td>212.282538</td>\n",
       "      <td>555.131027</td>\n",
       "      <td>1370.317105</td>\n",
       "      <td>19043.138560</td>\n",
       "      <td>1537.0</td>\n",
       "      <td>0.928267</td>\n",
       "      <td>...</td>\n",
       "      <td>523.893953</td>\n",
       "      <td>18621.013310</td>\n",
       "      <td>1537.0</td>\n",
       "      <td>0.278258</td>\n",
       "      <td>0.367029</td>\n",
       "      <td>0.0</td>\n",
       "      <td>0.0</td>\n",
       "      <td>0.083333</td>\n",
       "      <td>0.545455</td>\n",
       "      <td>1.0</td>\n",
       "    </tr>\n",
       "  </tbody>\n",
       "</table>\n",
       "<p>5 rows × 128 columns</p>\n",
       "</div>"
      ],
      "text/plain": [
       "         BALANCE                                                     \n",
       "           count         mean          std        min          25%   \n",
       "clusters                                                             \n",
       "0         2650.0  3036.946177  2478.922442   6.824905  1255.154881  \\\n",
       "1         3279.0   443.776995   846.525522   0.000000    23.340435   \n",
       "2         1072.0  1794.024195  1982.950586   0.000000   506.925348   \n",
       "3          412.0  1987.146873  1852.215743  70.794108  1020.146724   \n",
       "4         1537.0  1143.200471  1665.090233   0.000000   212.282538   \n",
       "\n",
       "                                                 BALANCE_FREQUENCY             \n",
       "                  50%          75%           max             count      mean   \n",
       "clusters                                                                       \n",
       "0         2173.994774  4223.858877  18495.558550            2650.0  0.963514  \\\n",
       "1           82.902896   410.659944   9630.367575            3279.0  0.774514   \n",
       "2         1087.920500  2308.762488  14581.459140            1072.0  0.862131   \n",
       "3         1338.918346  2133.415063  11670.179850             412.0  0.989512   \n",
       "4          555.131027  1370.317105  19043.138560            1537.0  0.928267   \n",
       "\n",
       "          ... MINIMUM_PAYMENTS               PRC_FULL_PAYMENT             \n",
       "          ...              75%           max            count      mean   \n",
       "clusters  ...                                                             \n",
       "0         ...      1330.541571   8345.641905           2650.0  0.001798  \\\n",
       "1         ...       248.766884   4483.503862           3279.0  0.246881   \n",
       "2         ...       884.718306  21235.065300           1072.0  0.117384   \n",
       "3         ...      7086.774783  76406.207520            412.0  0.019271   \n",
       "4         ...       523.893953  18621.013310           1537.0  0.278258   \n",
       "\n",
       "                                                       \n",
       "               std  min  25%       50%       75%  max  \n",
       "clusters                                               \n",
       "0         0.023256  0.0  0.0  0.000000  0.000000  0.6  \n",
       "1         0.346775  0.0  0.0  0.000000  0.444444  1.0  \n",
       "2         0.186853  0.0  0.0  0.083333  0.142857  1.0  \n",
       "3         0.090795  0.0  0.0  0.000000  0.000000  1.0  \n",
       "4         0.367029  0.0  0.0  0.083333  0.545455  1.0  \n",
       "\n",
       "[5 rows x 128 columns]"
      ]
     },
     "execution_count": 23,
     "metadata": {},
     "output_type": "execute_result"
    }
   ],
   "source": [
    "data.groupby('clusters').describe()"
   ]
  },
  {
   "cell_type": "code",
   "execution_count": 24,
   "id": "b9f93ec1",
   "metadata": {},
   "outputs": [
    {
     "name": "stdout",
     "output_type": "stream",
     "text": [
      "[[5.03886149e-01 2.72144714e-04 6.15751915e-02 3.61893482e-02\n",
      "  2.54075483e-02 2.53219709e-01 6.71312176e-05 2.56644637e-05\n",
      "  4.48814714e-05 5.75359114e-05 1.15794119e-03 1.32612254e-03\n",
      "  7.19404134e-01 1.66061928e-01 1.79050745e-01 5.79660872e-07]\n",
      " [6.89799575e-02 2.30763006e-04 1.21587120e-01 4.79794677e-02\n",
      "  7.37079733e-02 2.40200669e-02 1.73016299e-04 3.36944404e-05\n",
      "  1.40456777e-04 7.83464589e-06 1.22859223e-04 2.86637386e-03\n",
      "  9.43639117e-01 1.53810130e-01 5.68564456e-02 7.61967577e-05]\n",
      " [2.35141479e-01 2.16555293e-04 6.03857074e-02 3.44170171e-02\n",
      "  2.59739049e-02 4.00128071e-01 5.26401668e-05 2.04882397e-05\n",
      "  3.51921361e-05 6.54864556e-05 1.57199032e-03 1.12217156e-03\n",
      "  5.35089146e-01 5.98040052e-01 1.04348171e-01 2.77498236e-05]\n",
      " [3.33483624e-01 2.68969713e-04 1.59146477e-01 3.61931219e-02\n",
      "  1.23336164e-01 5.80731211e-02 1.67333390e-04 2.64804728e-05\n",
      "  1.47698430e-04 1.92281888e-05 4.25862512e-04 3.87053484e-03\n",
      "  3.77114118e-01 2.52735252e-01 6.78741705e-01 4.21940580e-06]\n",
      " [1.60146324e-01 2.45102576e-04 4.38362163e-01 2.57083619e-01\n",
      "  1.81450166e-01 2.58559897e-02 2.04225525e-04 8.90425753e-05\n",
      "  1.50463941e-04 9.38731157e-06 1.69791390e-04 6.17471250e-03\n",
      "  6.04026222e-01 4.02570939e-01 8.52801165e-02 7.19065188e-05]]\n"
     ]
    }
   ],
   "source": [
    "centroids = kmeans.cluster_centers_\n",
    "print(centroids)"
   ]
  },
  {
   "cell_type": "code",
   "execution_count": 25,
   "id": "ffd7da09",
   "metadata": {},
   "outputs": [
    {
     "data": {
      "text/plain": [
       "array([5.03886149e-01, 2.72144714e-04, 6.15751915e-02, 3.61893482e-02,\n",
       "       2.54075483e-02, 2.53219709e-01, 6.71312176e-05, 2.56644637e-05,\n",
       "       4.48814714e-05, 5.75359114e-05, 1.15794119e-03, 1.32612254e-03,\n",
       "       7.19404134e-01, 1.66061928e-01, 1.79050745e-01, 5.79660872e-07])"
      ]
     },
     "execution_count": 25,
     "metadata": {},
     "output_type": "execute_result"
    }
   ],
   "source": [
    "centroids[0]"
   ]
  },
  {
   "cell_type": "code",
   "execution_count": 31,
   "id": "70d25e17",
   "metadata": {},
   "outputs": [
    {
     "name": "stdout",
     "output_type": "stream",
     "text": [
      "BALANCE 0.0224\n",
      "BALANCE_FREQUENCY 0.0000\n",
      "PURCHASES 0.0196\n",
      "ONEOFF_PURCHASES 0.0077\n",
      "INSTALLMENTS_PURCHASES 0.0036\n",
      "CASH_ADVANCE 0.0226\n",
      "PURCHASES_FREQUENCY 0.0000\n",
      "ONEOFF_PURCHASES_FREQUENCY 0.0000\n",
      "PURCHASES_INSTALLMENTS_FREQUENCY 0.0000\n",
      "CASH_ADVANCE_FREQUENCY 0.0000\n",
      "CASH_ADVANCE_TRX 0.0000\n",
      "PURCHASES_TRX 0.0000\n",
      "CREDIT_LIMIT 0.0360\n",
      "PAYMENTS 0.0280\n",
      "MINIMUM_PAYMENTS 0.0541\n",
      "PRC_FULL_PAYMENT 0.0000\n"
     ]
    }
   ],
   "source": [
    "maxx = len(centroids[0])\n",
    "for i in range(maxx):\n",
    "    print(data.columns.values[i], '{:.4f}'.format(centroids[:, i].var()))"
   ]
  },
  {
   "cell_type": "code",
   "execution_count": 40,
   "id": "fdcc4159",
   "metadata": {},
   "outputs": [
    {
     "data": {
      "text/plain": [
       "Index(['BALANCE', 'BALANCE_FREQUENCY', 'PURCHASES', 'ONEOFF_PURCHASES',\n",
       "       'INSTALLMENTS_PURCHASES', 'CASH_ADVANCE', 'PURCHASES_FREQUENCY',\n",
       "       'ONEOFF_PURCHASES_FREQUENCY', 'PURCHASES_INSTALLMENTS_FREQUENCY',\n",
       "       'CASH_ADVANCE_FREQUENCY', 'CASH_ADVANCE_TRX', 'PURCHASES_TRX',\n",
       "       'CREDIT_LIMIT', 'PAYMENTS', 'MINIMUM_PAYMENTS', 'PRC_FULL_PAYMENT',\n",
       "       'clusters'],\n",
       "      dtype='object')"
      ]
     },
     "execution_count": 40,
     "metadata": {},
     "output_type": "execute_result"
    }
   ],
   "source": [
    "data.columns"
   ]
  },
  {
   "cell_type": "code",
   "execution_count": 47,
   "id": "d960a26e",
   "metadata": {},
   "outputs": [
    {
     "data": {
      "text/plain": [
       "array([0.50388615, 0.06897996, 0.23514148, 0.33348362, 0.16014632])"
      ]
     },
     "execution_count": 47,
     "metadata": {},
     "output_type": "execute_result"
    }
   ],
   "source": [
    "centroids[:, 0]"
   ]
  },
  {
   "cell_type": "code",
   "execution_count": 57,
   "id": "4b14885f",
   "metadata": {},
   "outputs": [
    {
     "name": "stdout",
     "output_type": "stream",
     "text": [
      "          BALANCE  PURCHASES  CASH_ADVANCE  CREDIT_LIMIT  PAYMENTS  n_clients\n",
      "clusters                                                                     \n",
      "0         3036.95     385.30       1637.38       4495.58    968.78       2650\n",
      "1          443.78     629.28        140.65       5130.89    814.34       3279\n",
      "2         1794.02     475.49       3270.25       3976.37   4709.56       1072\n",
      "3         1987.15     858.33        420.11       2226.70   1338.97        412\n",
      "4         1143.20    3273.17        183.38       4102.97   3040.90       1537\n"
     ]
    }
   ],
   "source": [
    "description = data.groupby('clusters')[['BALANCE', 'PURCHASES', 'CASH_ADVANCE', 'CREDIT_LIMIT', 'PAYMENTS']]\n",
    "n_clients = description.size()\n",
    "description = round(description.mean(), 2)\n",
    "description['n_clients'] = n_clients\n",
    "print(description)"
   ]
  }
 ],
 "metadata": {
  "kernelspec": {
   "display_name": "Python 3 (ipykernel)",
   "language": "python",
   "name": "python3"
  },
  "language_info": {
   "codemirror_mode": {
    "name": "ipython",
    "version": 3
   },
   "file_extension": ".py",
   "mimetype": "text/x-python",
   "name": "python",
   "nbconvert_exporter": "python",
   "pygments_lexer": "ipython3",
   "version": "3.10.11"
  }
 },
 "nbformat": 4,
 "nbformat_minor": 5
}
